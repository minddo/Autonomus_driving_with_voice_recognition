{
  "nbformat": 4,
  "nbformat_minor": 0,
  "metadata": {
    "colab": {
      "name": "guideline_for_snowboy.ipynb",
      "provenance": [],
      "collapsed_sections": [],
      "toc_visible": true
    },
    "kernelspec": {
      "name": "python3",
      "display_name": "Python 3"
    }
  },
  "cells": [
    {
      "cell_type": "markdown",
      "metadata": {
        "id": "b4gaoJ_haFJm",
        "colab_type": "text"
      },
      "source": [
        "# SnowBoy"
      ]
    },
    {
      "cell_type": "markdown",
      "metadata": {
        "id": "dz0vyFsnbn2Z",
        "colab_type": "text"
      },
      "source": [
        "## Introduction\n",
        "\n",
        "<img src='https://snowboy.kitt.ai/3ee1353fe05ea13250318e7aa14f4a31.png' width='500'>"
      ]
    },
    {
      "cell_type": "markdown",
      "metadata": {
        "id": "anen07Cnb8Lw",
        "colab_type": "text"
      },
      "source": [
        "**Snowboy** is an highly customizable hotword detection engine that is embedded real-time and is always listening (even when off-line) compatible with Raspberry Pi, (Ubuntu) Linux, and Mac OS X.\n",
        "\n",
        "A **hotword** (also known as **wake word** or **trigger word**) is a keyword or phrase that the computer constantly listens for as a signal to trigger other actions.\n",
        "\n",
        "Some examples of hotword include “Alexa” on Amazon Echo, “OK Google” on some Android devices and “Hey Siri” on iPhones. These hotwords are used to initiate a full-fledged speech interaction interface. However, hotwords can be used in other ways too like performing simple command & control actions.\n",
        "\n",
        "In one hacky solution, one can run a full ASR (Automatic Speech Recognition) to perform hotword detection. In this scenario, the device would watch for specific trigger words in the ASR transcriptions. However, ASR consumes a lot of device and bandwidth resources. In addition, it does not protect your privacy when one uses a cloud-based solution. Luckily, **Snowboy** was created to solve these problems!\n",
        "\n",
        "\n",
        "Snowboy is:\n",
        "\n",
        "\n",
        "*   highly customizable allowing you to freely define your own magic hotword such as (but not limited to) “open sesame”, “garage door open”, or “hello dreamhouse”. If you can think it, you can hotword it!\n",
        "*   **always listening but protects your privacy** because Snowboy does not connect to the Internet or stream your voice anywhere.\n",
        "*   **light-weight and embedded** allowing you to runs it on Raspberry Pi’s consuming less than 10% CPU on the smallest Pi’s (single-core 700M Hz ARMv6).\n",
        "*   **Apache licensed!**\n",
        "\n"
      ]
    },
    {
      "cell_type": "markdown",
      "metadata": {
        "id": "IVNIy15GrC7P",
        "colab_type": "text"
      },
      "source": [
        "## Installation\n",
        "\n",
        "\n",
        "The following tasks must be performed in the terminal"
      ]
    },
    {
      "cell_type": "markdown",
      "metadata": {
        "id": "NG2XWzdas61K",
        "colab_type": "text"
      },
      "source": [
        "### Packages related to Python audio"
      ]
    },
    {
      "cell_type": "code",
      "metadata": {
        "id": "8FiLdieKWKvj",
        "colab_type": "code",
        "colab": {}
      },
      "source": [
        "$ sudo apt-get install python-pyaudio python3-pyaudio sox\n",
        "$ sudo apt-get install portaudio19-dev \n",
        "$ sudo apt-get install python-dev\n",
        "$ pip install pyaudio "
      ],
      "execution_count": 0,
      "outputs": []
    },
    {
      "cell_type": "markdown",
      "metadata": {
        "id": "5N59kgOxtIQZ",
        "colab_type": "text"
      },
      "source": [
        "> NOTE: If pip doesn't work, you have to install ```pip``` first"
      ]
    },
    {
      "cell_type": "code",
      "metadata": {
        "id": "MQPuqGgqtgDD",
        "colab_type": "code",
        "colab": {}
      },
      "source": [
        "$ sudo apt install python-pip"
      ],
      "execution_count": 0,
      "outputs": []
    },
    {
      "cell_type": "markdown",
      "metadata": {
        "id": "tW-IyKVdti6w",
        "colab_type": "text"
      },
      "source": [
        "You can check if your microphone works well with the command below.\n"
      ]
    },
    {
      "cell_type": "code",
      "metadata": {
        "id": "tq9gn0WQuYmJ",
        "colab_type": "code",
        "colab": {}
      },
      "source": [
        "$ rec temp.wav   # You can record sound through your microphone BT\n",
        "#Exit: ctrl + c\n",
        "$ aplay temp.wav # You can back the recorded files"
      ],
      "execution_count": 0,
      "outputs": []
    },
    {
      "cell_type": "markdown",
      "metadata": {
        "id": "-gwHZjcluyew",
        "colab_type": "text"
      },
      "source": [
        "> Note: when running the code\n",
        "PLEASE DO NOT USE REMOTE-CONNECTION FROM YOUR LAPTOP \n",
        "> *    If you do remote connection, the sound \n",
        "input would be done from your laptop not jetbot \n",
        "> *    Please use HDMI to make Bluetooth connection b/w JetBot and BT speaker)"
      ]
    },
    {
      "cell_type": "markdown",
      "metadata": {
        "id": "5M6hr2Hbw_6H",
        "colab_type": "text"
      },
      "source": [
        "### SWIG package\n",
        "\n",
        "```SWIG``` is a software development tool that connects programs written in C and C++ with a variety of high-level programming languages. ```SWIG``` is used with different types of target languages including common scripting languages such as Javascript, Perl, PHP, Python, Tcl and Ruby."
      ]
    },
    {
      "cell_type": "markdown",
      "metadata": {
        "id": "gBVOUP6Zvhl2",
        "colab_type": "text"
      },
      "source": [
        "Snowboy needs to compile with a program called ```swig```,  Since swig must be at least version 3.0.10 or more, enter ```swig -version``` on the terminal and reinstall if it is less than 3.0.10"
      ]
    },
    {
      "cell_type": "markdown",
      "metadata": {
        "id": "YFKEtCjixxfy",
        "colab_type": "text"
      },
      "source": [
        "#### Pre-installed library\n",
        "Maybe Ubuntu for PC has already been installed, but if not, it should be installed."
      ]
    },
    {
      "cell_type": "code",
      "metadata": {
        "id": "xDfq366CyB3p",
        "colab_type": "code",
        "colab": {}
      },
      "source": [
        "$ sudo apt-get install automake\n",
        "$ sudo apt-get install byacc"
      ],
      "execution_count": 0,
      "outputs": []
    },
    {
      "cell_type": "markdown",
      "metadata": {
        "id": "1TxCa4-lyGCh",
        "colab_type": "text"
      },
      "source": [
        "#### Removing the existing swig"
      ]
    },
    {
      "cell_type": "code",
      "metadata": {
        "id": "5cdyo2mRyPcC",
        "colab_type": "code",
        "colab": {}
      },
      "source": [
        "$ sudo apt-get remove swig"
      ],
      "execution_count": 0,
      "outputs": []
    },
    {
      "cell_type": "markdown",
      "metadata": {
        "id": "Q_sFvLHTyhyg",
        "colab_type": "text"
      },
      "source": [
        "#### Download & Install Code"
      ]
    },
    {
      "cell_type": "code",
      "metadata": {
        "id": "11XAJ67PyjS6",
        "colab_type": "code",
        "colab": {}
      },
      "source": [
        "$ git clone https://github.com/swig/swig.git\n",
        "$ cd swig\n",
        "$ ./autogen.sh\n",
        "$ ./configure\n",
        "$ make -j4\n",
        "$ sudo make install\n",
        "$ sudo ldconfig"
      ],
      "execution_count": 0,
      "outputs": []
    },
    {
      "cell_type": "markdown",
      "metadata": {
        "id": "ZtBOLXV8y1L_",
        "colab_type": "text"
      },
      "source": [
        "#### Check version"
      ]
    },
    {
      "cell_type": "code",
      "metadata": {
        "id": "esg2g3ypy46p",
        "colab_type": "code",
        "colab": {}
      },
      "source": [
        "$ swig -version"
      ],
      "execution_count": 0,
      "outputs": []
    },
    {
      "cell_type": "markdown",
      "metadata": {
        "id": "i0qPeZgGzWV2",
        "colab_type": "text"
      },
      "source": [
        "After completing the installation, you can check the version.\n",
        "\n",
        " \n",
        "If verson >= 3.0.10, then install the ```atlas``` packages for Matrix Computing."
      ]
    },
    {
      "cell_type": "code",
      "metadata": {
        "id": "AiAPpoMbzx0d",
        "colab_type": "code",
        "colab": {}
      },
      "source": [
        "$ sudo apt-get install libatlas-base-dev"
      ],
      "execution_count": 0,
      "outputs": []
    },
    {
      "cell_type": "markdown",
      "metadata": {
        "id": "1yx4OH5Cz0Ld",
        "colab_type": "text"
      },
      "source": [
        "## Get the GitHub source and build"
      ]
    },
    {
      "cell_type": "code",
      "metadata": {
        "id": "5USf6hTGz6w_",
        "colab_type": "code",
        "colab": {}
      },
      "source": [
        "$ git clone https://github.com/Kitt-AI/snowboy.git"
      ],
      "execution_count": 0,
      "outputs": []
    },
    {
      "cell_type": "markdown",
      "metadata": {
        "id": "vSS-enqq0D_5",
        "colab_type": "text"
      },
      "source": [
        "Move to swig/Python3 in the snowboy folder and build once with ```make``` command\n"
      ]
    },
    {
      "cell_type": "code",
      "metadata": {
        "id": "LwvNnnTV0ghu",
        "colab_type": "code",
        "colab": {}
      },
      "source": [
        "$ cd ./snowboy/swig/Python3\n",
        "$ make"
      ],
      "execution_count": 0,
      "outputs": []
    },
    {
      "cell_type": "markdown",
      "metadata": {
        "id": "eRQvOP6M0k_F",
        "colab_type": "text"
      },
      "source": [
        "> Note: If you have problems with Python headers such as ```Python.h```, try installing the ```python3-dev``` package as shown below. Then try the ```make``` command again in the terminal. If there were no errors, the build was successful."
      ]
    },
    {
      "cell_type": "code",
      "metadata": {
        "id": "BwN5sYdp0kVc",
        "colab_type": "code",
        "colab": {}
      },
      "source": [
        "sudo apt-get install python-dev\n",
        "sudo apt-get install python3-dev"
      ],
      "execution_count": 0,
      "outputs": []
    },
    {
      "cell_type": "markdown",
      "metadata": {
        "id": "j_8kitYv5qWr",
        "colab_type": "text"
      },
      "source": [
        "If the build fails with the following error even after installing the corresponding packages, you must add arm64-related content to the ```Makefile```.\n",
        "\n",
        "\n",
        "\n",
        "```\n",
        "../..//lib/ubuntu64/libsnowboy-detect.a: error adding symbols: File in wrong format\n",
        "collect2: error: ld returned 1 exit status\n",
        "```\n",
        "\n"
      ]
    },
    {
      "cell_type": "markdown",
      "metadata": {
        "id": "8wPlqAUg8XRu",
        "colab_type": "text"
      },
      "source": [
        "You must follow the steps below\n",
        "$ vim Makefile # open Makefile\n",
        "press ```i``` key and add the following changes (We marked the changed part with ####)\n",
        "press ```esc``` and ```:``` keys. And \n",
        "You can save changes and exit files via ```wq!```\n",
        " \n"
      ]
    },
    {
      "cell_type": "markdown",
      "metadata": {
        "id": "aFfKrNIh71K5",
        "colab_type": "text"
      },
      "source": [
        "\n",
        "\n",
        "```\n",
        "ifneq (\"$(ldconfig -p | grep lapack_atlas)\",\"\")\n",
        "    LDLIBS := -lm -ldl -lf77blas -lcblas -llapack_atlas -latlas\n",
        "  else\n",
        "    LDLIBS := -lm -ldl -lf77blas -lcblas -llapack -latlas\n",
        "  endif\n",
        "  SNOWBOYDETECTLIBFILE = $(TOPDIR)/lib/ubuntu64/libsnowboy-detect.a\n",
        "  ifneq (,$(findstring arm,$(shell uname -m)))\n",
        "    SNOWBOYDETECTLIBFILE = $(TOPDIR)/lib/rpi/libsnowboy-detect.a\n",
        "    ifeq ($(findstring fc,$(shell uname -r)), fc)\n",
        "      SNOWBOYDETECTLIBFILE = $(TOPDIR)/lib/fedora25-armv7/libsnowboy-detect.a\n",
        "      LDLIBS := -L/usr/lib/atlas -lm -ldl -lsatlas    \n",
        "    endif\n",
        "  endif\n",
        "######### You should add the following code here!########### \n",
        "  ifneq (,$(findstring aarch64,$(shell uname -m)))\n",
        "      SNOWBOYDETECTLIBFILE = $(TOPDIR)/lib/aarch64-ubuntu1604/libsnowboy-detect.a\n",
        "  endif  \n",
        "############################################################\n",
        "endif\n",
        "```\n",
        "\n"
      ]
    },
    {
      "cell_type": "markdown",
      "metadata": {
        "id": "Hforewcd3u4d",
        "colab_type": "text"
      },
      "source": [
        "## Run demo"
      ]
    },
    {
      "cell_type": "markdown",
      "metadata": {
        "id": "G9aVM8Lk32fN",
        "colab_type": "text"
      },
      "source": [
        "It's time to run the demo file to make sure the installation is well done.\n",
        "\n",
        "The demo file is in the ```examples/Python3``` of the snowboy folder. The demo execution method is as follows."
      ]
    },
    {
      "cell_type": "code",
      "metadata": {
        "id": "0U34uUcI9NtX",
        "colab_type": "code",
        "colab": {}
      },
      "source": [
        "cd /snowboy/examples/Python3\n",
        "python3 demo.py \"resources/models/snowboy.umdl\""
      ],
      "execution_count": 0,
      "outputs": []
    },
    {
      "cell_type": "markdown",
      "metadata": {
        "id": "77-EkdMWFBAd",
        "colab_type": "text"
      },
      "source": [
        "> Note: if you have  Importerror, than we should modify snowboydecoder.py like as following\n",
        "\n",
        "> from * import snowboydetect => import snowboydetect"
      ]
    },
    {
      "cell_type": "markdown",
      "metadata": {
        "id": "-EDHMvbl3u2i",
        "colab_type": "text"
      },
      "source": [
        "Let's shout \"snowboy\" on your BT microphone. You can get to the terminal as below.\n",
        "\n",
        "\n",
        "\n",
        "```\n",
        "$python3 demo.py \"./resources/models/snowboy.umdl\"\n",
        "Listening... Press Ctrl+C to exit\n",
        "INFO:snowboy:Keyword 1 detected at time: 2020-09-06 17:45:12\n",
        "INFO:snowboy:Keyword 1 detected at time: 2020-06-06 17:45:15\n",
        "```\n",
        "\n",
        "\n",
        "\n"
      ]
    },
    {
      "cell_type": "markdown",
      "metadata": {
        "id": "vmm6RFau-J57",
        "colab_type": "text"
      },
      "source": [
        "# Personalized speech recognition model"
      ]
    },
    {
      "cell_type": "markdown",
      "metadata": {
        "id": "hHIWOAvZARlp",
        "colab_type": "text"
      },
      "source": [
        "In the above example, we tested using ```umdl```(universial model), but snowboy also provides a personal model. The process is very simple, like this:\n",
        "\n",
        "1.    click the url: https://snowboy.kitt.ai/\n",
        "2.    click the ```Login with social media```\n",
        "3.    click the ```Create Hotword``` and set your Hotword and record your voice\n",
        "4.   Test the model and click ```save and download``` button. Then you can get ```pmdl``` (personal model) files\n",
        "\n",
        "\n",
        "<img src='https://drive.google.com/uc?id=1BEs48uI5udOzgQSDacCD34upAqjig3HG' width='1200'>"
      ]
    },
    {
      "cell_type": "markdown",
      "metadata": {
        "id": "rmpFutBzHFVl",
        "colab_type": "text"
      },
      "source": [
        "# Teleoperation via voice command"
      ]
    },
    {
      "cell_type": "markdown",
      "metadata": {
        "id": "I04f0zJKH0cg",
        "colab_type": "text"
      },
      "source": [
        "In the previous step, we created a personal model of forward, stop, left and right. \n",
        "\n",
        "We are going to remote control the robot through these models. Snowboy decoder to detect whether a keyword specified by `decoder_model` exists in a microphone input stream. The figure shows the flow of the ```snowboydecoder```. \n",
        "\n",
        "For every ```sleep_time``` second it checks the audio buffer for triggering keywords. If detected, then call corresponding function in ```detected_callback```, which can be a single function (single model) or a list of callback functions (multiple models). Every loop it also calls ```interrupt_check``` -- if it returns True, then breaks from the loop and return.\n",
        "\n",
        "<img src='https://drive.google.com/uc?id=1xz5oXMD806dbHgkvYe7K1urMGPISWk3b' width='800'>"
      ]
    },
    {
      "cell_type": "code",
      "metadata": {
        "id": "gkdVwLS4-cxE",
        "colab_type": "code",
        "colab": {}
      },
      "source": [
        "import snowboydecoder\n",
        "import sys\n",
        "import signal\n",
        "from jetbot import Robot\n",
        "import time\n",
        "\n",
        "# Demo code for listening to four hotwords at the same time\n",
        "\n",
        "robot = Robot()\n",
        "interrupted = False\n",
        "\n",
        "def signal_handler(signal, frame):\n",
        "    global interrupted\n",
        "    interrupted = True\n",
        "\n",
        "\n",
        "def interrupt_callback():\n",
        "    global interrupted\n",
        "    return interrupted\n",
        "\n",
        "# To run the model in terminal, you need to enter the following command\n",
        "# python3 robotmove.py forward.pmdl stop.pmdl right.pmdl left.pmdl\n",
        "# The sys.argv stores: [robotmove.py, forward.pmdl, stop.pmdl, right.pmdl, left.pmdl]\n",
        "\n",
        "if len(sys.argv) != 5:\n",
        "    print(\"Error: need to specify 4 model names\")\n",
        "    sys.exit(-1)\n",
        "\n",
        "\n",
        "models = sys.argv[1:]\n",
        "# models = [forward.pmdl, stop.pmdl, right.pmdl, left.pmdl]\n",
        "\n",
        "# You need to set the logic for your command\n",
        "def forward():\n",
        "    robot.forward(0.4)\n",
        "def stop():\n",
        "    robot.stop()\n",
        "def left():\n",
        "    robot.left(0.4)\n",
        "def right():\n",
        "    robot.right(0.4)\n",
        "\n",
        "# capture SIGINT signal, e.g., Ctrl+c\n",
        "signal.signal(signal.SIGINT, signal_handler)\n",
        "#The bigger the value, the more senstive the decoder. If an empty list is provided, then the default sensitivity in the model will be used.\n",
        "sensitivity = [0.5]*len(models)\n",
        "detector = snowboydecoder.HotwordDetector(models, sensitivity=sensitivity)\n",
        "# In order to work properly, you must match the input and your logic sequence in the command.\n",
        "callbacks = [lambda: forward(),\n",
        "             lambda: stop(),\n",
        "             lambda: left(),\n",
        "             lambda: right()]\n",
        "\n",
        "print('Listening... Press Ctrl+C to exit')\n",
        "\n",
        "# main loop\n",
        "# make sure you have the same numbers of callbacks and models\n",
        "detector.start(detected_callback=callbacks,\n",
        "               interrupt_check=interrupt_callback,\n",
        "               sleep_time=0.03)\n",
        "\n",
        "detector.terminate()"
      ],
      "execution_count": 0,
      "outputs": []
    },
    {
      "cell_type": "markdown",
      "metadata": {
        "id": "Xiq9ahVPMI5G",
        "colab_type": "text"
      },
      "source": [
        "The main program loops at ```detector.start()```. Every ```sleep_time=0.03``` second, the function:\n",
        "\n",
        "1.    checks a ring buffer filled with microphone data to see whether a hotword is detected. If yes, call the ```detected_callback``` function.\n",
        "\n",
        "2.   calls the ```interrupt_check function```: if it returns True, then break the main loop and return.\n",
        "\n",
        "Here we assigned ```detected_callback``` with a our predefined model."
      ]
    },
    {
      "cell_type": "markdown",
      "metadata": {
        "id": "9ufc2LHZHN_i",
        "colab_type": "text"
      },
      "source": [
        "You can run it from the terminal using the following command. (You should save the above block as ```robotmove.py```)"
      ]
    },
    {
      "cell_type": "code",
      "metadata": {
        "id": "K1t_on54HTQy",
        "colab_type": "code",
        "colab": {}
      },
      "source": [
        " $ python3 robotmove.py forward.pmdl stop.pmdl right.pmdl left.pmdl"
      ],
      "execution_count": 0,
      "outputs": []
    },
    {
      "cell_type": "markdown",
      "metadata": {
        "id": "xM0YtSCP0G-3",
        "colab_type": "text"
      },
      "source": [
        "You can also run it on Jupyter notebooks. To do this, you need to:\n",
        "* Move pmdl files in the same directory as the running Jupyter file"
      ]
    },
    {
      "cell_type": "code",
      "metadata": {
        "id": "P-R53Riy1JKR",
        "colab_type": "code",
        "colab": {}
      },
      "source": [
        "import snowboydecoder\n",
        "import sys\n",
        "import signal\n",
        "from jetbot import Robot\n",
        "import time\n",
        "\n",
        "# Demo code for listening to four hotwords at the same time\n",
        "\n",
        "robot = Robot()\n",
        "interrupted = False\n",
        "\n",
        "def signal_handler(signal, frame):\n",
        "    global interrupted\n",
        "    interrupted = True\n",
        "\n",
        "\n",
        "def interrupt_callback():\n",
        "    global interrupted\n",
        "    return interrupted\n",
        "\n",
        "# To run the model in terminal, you need to enter the following command\n",
        "# python3 robotmove.py forward.pmdl stop.pmdl right.pmdl left.pmdl\n",
        "# The sys.argv stores: [robotmove.py, forward.pmdl, stop.pmdl, right.pmdl, left.pmdl]\n",
        "\n",
        "models = ['forward.pmdl', 'stop.pmdl', 'right.pmdl', 'left.pmdl']\n",
        "\n",
        "# You need to set the logic for your command\n",
        "def forward():\n",
        "    robot.forward(0.4)\n",
        "def stop():\n",
        "    robot.stop()\n",
        "def left():\n",
        "    robot.left(0.4)\n",
        "def right():\n",
        "    robot.right(0.4)\n",
        "\n",
        "# capture SIGINT signal, e.g., Ctrl+c\n",
        "signal.signal(signal.SIGINT, signal_handler)\n",
        "#The bigger the value, the more senstive the decoder. If an empty list is provided, then the default sensitivity in the model will be used.\n",
        "sensitivity = [0.5]*len(models)\n",
        "detector = snowboydecoder.HotwordDetector(models, sensitivity=sensitivity)\n",
        "# In order to work properly, you must match the input and your logic sequence in the command.\n",
        "callbacks = [lambda: forward(),\n",
        "             lambda: stop(),\n",
        "             lambda: left(),\n",
        "             lambda: right()]\n",
        "\n",
        "print('Listening... Press Ctrl+C to exit')\n",
        "\n",
        "# main loop\n",
        "# make sure you have the same numbers of callbacks and models\n",
        "detector.start(detected_callback=callbacks,\n",
        "               interrupt_check=interrupt_callback,\n",
        "               sleep_time=0.03)\n",
        "\n",
        "detector.terminate()"
      ],
      "execution_count": 0,
      "outputs": []
    }
  ]
}